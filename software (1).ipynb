{
 "cells": [
  {
   "cell_type": "code",
   "execution_count": 1,
   "id": "9fe0f71f",
   "metadata": {
    "papermill": {
     "duration": 14.002296,
     "end_time": "2024-02-28T16:24:01.863074",
     "exception": false,
     "start_time": "2024-02-28T16:23:47.860778",
     "status": "completed"
    },
    "tags": []
   },
   "outputs": [],
   "source": [
    "# pip install textblob"
   ]
  },
  {
   "cell_type": "markdown",
   "id": "9144d102-02de-49d8-9fc0-e9a27c764587",
   "metadata": {},
   "source": [
    "## **Importing libraries**"
   ]
  },
  {
   "cell_type": "code",
   "execution_count": 2,
   "id": "013fc9cb",
   "metadata": {
    "papermill": {
     "duration": 3.993508,
     "end_time": "2024-02-28T16:24:05.866102",
     "exception": false,
     "start_time": "2024-02-28T16:24:01.872594",
     "status": "completed"
    },
    "tags": []
   },
   "outputs": [
    {
     "name": "stderr",
     "output_type": "stream",
     "text": [
      "[nltk_data] Downloading package vader_lexicon to C:\\Users\\Tech\n",
      "[nltk_data]     Assignment 02\\AppData\\Roaming\\nltk_data...\n",
      "[nltk_data]   Package vader_lexicon is already up-to-date!\n",
      "[nltk_data] Downloading package punkt to C:\\Users\\Tech Assignment\n",
      "[nltk_data]     02\\AppData\\Roaming\\nltk_data...\n",
      "[nltk_data]   Package punkt is already up-to-date!\n",
      "[nltk_data] Downloading package stopwords to C:\\Users\\Tech Assignment\n",
      "[nltk_data]     02\\AppData\\Roaming\\nltk_data...\n",
      "[nltk_data]   Package stopwords is already up-to-date!\n"
     ]
    }
   ],
   "source": [
    "import json\n",
    "import pandas as pd\n",
    "import matplotlib.pyplot as plt\n",
    "import seaborn as sns\n",
    "import string\n",
    "from nltk.tokenize import word_tokenize\n",
    "from nltk.corpus import stopwords\n",
    "from textblob import TextBlob\n",
    "from nltk.sentiment.vader import SentimentIntensityAnalyzer\n",
    "import nltk\n",
    "nltk.download('vader_lexicon')\n",
    "import nltk\n",
    "nltk.download('punkt')\n",
    "nltk.download('stopwords')\n",
    "from sklearn.metrics import classification_report\n",
    "from skimpy import skim\n"
   ]
  },
  {
   "cell_type": "code",
   "execution_count": 3,
   "id": "d70f33b3",
   "metadata": {
    "papermill": {
     "duration": 0.092256,
     "end_time": "2024-02-28T16:24:05.967786",
     "exception": false,
     "start_time": "2024-02-28T16:24:05.875530",
     "status": "completed"
    },
    "tags": []
   },
   "outputs": [
    {
     "data": {
      "text/html": [
       "<div>\n",
       "<style scoped>\n",
       "    .dataframe tbody tr th:only-of-type {\n",
       "        vertical-align: middle;\n",
       "    }\n",
       "\n",
       "    .dataframe tbody tr th {\n",
       "        vertical-align: top;\n",
       "    }\n",
       "\n",
       "    .dataframe thead th {\n",
       "        text-align: right;\n",
       "    }\n",
       "</style>\n",
       "<table border=\"1\" class=\"dataframe\">\n",
       "  <thead>\n",
       "    <tr style=\"text-align: right;\">\n",
       "      <th></th>\n",
       "      <th>overall</th>\n",
       "      <th>verified</th>\n",
       "      <th>reviewTime</th>\n",
       "      <th>reviewerID</th>\n",
       "      <th>asin</th>\n",
       "      <th>style</th>\n",
       "      <th>reviewerName</th>\n",
       "      <th>reviewText</th>\n",
       "      <th>summary</th>\n",
       "      <th>unixReviewTime</th>\n",
       "      <th>vote</th>\n",
       "      <th>image</th>\n",
       "    </tr>\n",
       "  </thead>\n",
       "  <tbody>\n",
       "    <tr>\n",
       "      <th>0</th>\n",
       "      <td>5.0</td>\n",
       "      <td>True</td>\n",
       "      <td>09 4, 2015</td>\n",
       "      <td>ALJ66O1Y6SLHA</td>\n",
       "      <td>B000K2PJ4K</td>\n",
       "      <td>{'Size:': ' Big Boys', 'Color:': ' Blue/Orange'}</td>\n",
       "      <td>Tonya B.</td>\n",
       "      <td>Great product and price!</td>\n",
       "      <td>Five Stars</td>\n",
       "      <td>1441324800</td>\n",
       "      <td>NaN</td>\n",
       "      <td>NaN</td>\n",
       "    </tr>\n",
       "    <tr>\n",
       "      <th>1</th>\n",
       "      <td>5.0</td>\n",
       "      <td>True</td>\n",
       "      <td>09 4, 2015</td>\n",
       "      <td>ALJ66O1Y6SLHA</td>\n",
       "      <td>B000K2PJ4K</td>\n",
       "      <td>{'Size:': ' Big Boys', 'Color:': ' Black (3746...</td>\n",
       "      <td>Tonya B.</td>\n",
       "      <td>Great product and price!</td>\n",
       "      <td>Five Stars</td>\n",
       "      <td>1441324800</td>\n",
       "      <td>NaN</td>\n",
       "      <td>NaN</td>\n",
       "    </tr>\n",
       "    <tr>\n",
       "      <th>2</th>\n",
       "      <td>5.0</td>\n",
       "      <td>True</td>\n",
       "      <td>09 4, 2015</td>\n",
       "      <td>ALJ66O1Y6SLHA</td>\n",
       "      <td>B000K2PJ4K</td>\n",
       "      <td>{'Size:': ' Big Boys', 'Color:': ' Blue/Gray L...</td>\n",
       "      <td>Tonya B.</td>\n",
       "      <td>Great product and price!</td>\n",
       "      <td>Five Stars</td>\n",
       "      <td>1441324800</td>\n",
       "      <td>NaN</td>\n",
       "      <td>NaN</td>\n",
       "    </tr>\n",
       "    <tr>\n",
       "      <th>3</th>\n",
       "      <td>5.0</td>\n",
       "      <td>True</td>\n",
       "      <td>09 4, 2015</td>\n",
       "      <td>ALJ66O1Y6SLHA</td>\n",
       "      <td>B000K2PJ4K</td>\n",
       "      <td>{'Size:': ' Big Boys', 'Color:': ' Blue (37867...</td>\n",
       "      <td>Tonya B.</td>\n",
       "      <td>Great product and price!</td>\n",
       "      <td>Five Stars</td>\n",
       "      <td>1441324800</td>\n",
       "      <td>NaN</td>\n",
       "      <td>NaN</td>\n",
       "    </tr>\n",
       "    <tr>\n",
       "      <th>4</th>\n",
       "      <td>5.0</td>\n",
       "      <td>True</td>\n",
       "      <td>09 4, 2015</td>\n",
       "      <td>ALJ66O1Y6SLHA</td>\n",
       "      <td>B000K2PJ4K</td>\n",
       "      <td>{'Size:': ' Big Boys', 'Color:': ' Blue/Pink'}</td>\n",
       "      <td>Tonya B.</td>\n",
       "      <td>Great product and price!</td>\n",
       "      <td>Five Stars</td>\n",
       "      <td>1441324800</td>\n",
       "      <td>NaN</td>\n",
       "      <td>NaN</td>\n",
       "    </tr>\n",
       "  </tbody>\n",
       "</table>\n",
       "</div>"
      ],
      "text/plain": [
       "   overall  verified  reviewTime     reviewerID        asin  \\\n",
       "0      5.0      True  09 4, 2015  ALJ66O1Y6SLHA  B000K2PJ4K   \n",
       "1      5.0      True  09 4, 2015  ALJ66O1Y6SLHA  B000K2PJ4K   \n",
       "2      5.0      True  09 4, 2015  ALJ66O1Y6SLHA  B000K2PJ4K   \n",
       "3      5.0      True  09 4, 2015  ALJ66O1Y6SLHA  B000K2PJ4K   \n",
       "4      5.0      True  09 4, 2015  ALJ66O1Y6SLHA  B000K2PJ4K   \n",
       "\n",
       "                                               style reviewerName  \\\n",
       "0   {'Size:': ' Big Boys', 'Color:': ' Blue/Orange'}     Tonya B.   \n",
       "1  {'Size:': ' Big Boys', 'Color:': ' Black (3746...     Tonya B.   \n",
       "2  {'Size:': ' Big Boys', 'Color:': ' Blue/Gray L...     Tonya B.   \n",
       "3  {'Size:': ' Big Boys', 'Color:': ' Blue (37867...     Tonya B.   \n",
       "4     {'Size:': ' Big Boys', 'Color:': ' Blue/Pink'}     Tonya B.   \n",
       "\n",
       "                 reviewText     summary  unixReviewTime vote image  \n",
       "0  Great product and price!  Five Stars      1441324800  NaN   NaN  \n",
       "1  Great product and price!  Five Stars      1441324800  NaN   NaN  \n",
       "2  Great product and price!  Five Stars      1441324800  NaN   NaN  \n",
       "3  Great product and price!  Five Stars      1441324800  NaN   NaN  \n",
       "4  Great product and price!  Five Stars      1441324800  NaN   NaN  "
      ]
     },
     "execution_count": 3,
     "metadata": {},
     "output_type": "execute_result"
    }
   ],
   "source": [
    "# Load the JSON file into a DataFrame\n",
    "with open('data.json', 'r') as f:\n",
    "    data = [json.loads(line) for line in f]\n",
    "\n",
    "df = pd.DataFrame(data)\n",
    "df.head(5)"
   ]
  },
  {
   "cell_type": "markdown",
   "id": "328d8ccb",
   "metadata": {
    "papermill": {
     "duration": 0.00888,
     "end_time": "2024-02-28T16:24:05.986198",
     "exception": false,
     "start_time": "2024-02-28T16:24:05.977318",
     "status": "completed"
    },
    "tags": []
   },
   "source": [
    "## **EDA**"
   ]
  },
  {
   "cell_type": "code",
   "execution_count": 4,
   "id": "ac09cc7a",
   "metadata": {
    "papermill": {
     "duration": 0.15058,
     "end_time": "2024-02-28T16:24:06.147954",
     "exception": false,
     "start_time": "2024-02-28T16:24:05.997374",
     "status": "completed"
    },
    "tags": []
   },
   "outputs": [
    {
     "data": {
      "text/html": [
       "<pre style=\"white-space:pre;overflow-x:auto;line-height:normal;font-family:Menlo,'DejaVu Sans Mono',consolas,'Courier New',monospace\">╭──────────────────────────────────────────────── skimpy summary ─────────────────────────────────────────────────╮\n",
       "│ <span style=\"font-style: italic\">         Data Summary         </span> <span style=\"font-style: italic\">      Data Types       </span>                                                          │\n",
       "│ ┏━━━━━━━━━━━━━━━━━━━┳━━━━━━━━┓ ┏━━━━━━━━━━━━━┳━━━━━━━┓                                                          │\n",
       "│ ┃<span style=\"color: #008080; text-decoration-color: #008080; font-weight: bold\"> dataframe         </span>┃<span style=\"color: #008080; text-decoration-color: #008080; font-weight: bold\"> Values </span>┃ ┃<span style=\"color: #008080; text-decoration-color: #008080; font-weight: bold\"> Column Type </span>┃<span style=\"color: #008080; text-decoration-color: #008080; font-weight: bold\"> Count </span>┃                                                          │\n",
       "│ ┡━━━━━━━━━━━━━━━━━━━╇━━━━━━━━┩ ┡━━━━━━━━━━━━━╇━━━━━━━┩                                                          │\n",
       "│ │ Number of rows    │ 3176   │ │ string      │ 7     │                                                          │\n",
       "│ │ Number of columns │ 10     │ │ float64     │ 1     │                                                          │\n",
       "│ └───────────────────┴────────┘ │ bool        │ 1     │                                                          │\n",
       "│                                │ int32       │ 1     │                                                          │\n",
       "│                                └─────────────┴───────┘                                                          │\n",
       "│ <span style=\"font-style: italic\">                                                    number                                                    </span>  │\n",
       "│ ┏━━━━━━━━━━┳━━━━┳━━━━━━┳━━━━━━━━━━┳━━━━━━━━━━┳━━━━━━━━━━┳━━━━━━━━━━┳━━━━━━━━━━┳━━━━━━━━━━┳━━━━━━━━━━┳━━━━━━━━┓  │\n",
       "│ ┃<span style=\"font-weight: bold\"> column_n </span>┃<span style=\"font-weight: bold\">    </span>┃<span style=\"font-weight: bold\">      </span>┃<span style=\"font-weight: bold\">          </span>┃<span style=\"font-weight: bold\">          </span>┃<span style=\"font-weight: bold\">          </span>┃<span style=\"font-weight: bold\">          </span>┃<span style=\"font-weight: bold\">          </span>┃<span style=\"font-weight: bold\">          </span>┃<span style=\"font-weight: bold\">          </span>┃<span style=\"font-weight: bold\">        </span>┃  │\n",
       "│ ┃<span style=\"font-weight: bold\"> ame      </span>┃<span style=\"font-weight: bold\"> NA </span>┃<span style=\"font-weight: bold\"> NA % </span>┃<span style=\"font-weight: bold\"> mean     </span>┃<span style=\"font-weight: bold\"> sd       </span>┃<span style=\"font-weight: bold\"> p0       </span>┃<span style=\"font-weight: bold\"> p25      </span>┃<span style=\"font-weight: bold\"> p50      </span>┃<span style=\"font-weight: bold\"> p75      </span>┃<span style=\"font-weight: bold\"> p100     </span>┃<span style=\"font-weight: bold\"> hist   </span>┃  │\n",
       "│ ┡━━━━━━━━━━╇━━━━╇━━━━━━╇━━━━━━━━━━╇━━━━━━━━━━╇━━━━━━━━━━╇━━━━━━━━━━╇━━━━━━━━━━╇━━━━━━━━━━╇━━━━━━━━━━╇━━━━━━━━┩  │\n",
       "│ │ <span style=\"color: #af87ff; text-decoration-color: #af87ff\">overall </span> │ <span style=\"color: #008080; text-decoration-color: #008080\"> 0</span> │ <span style=\"color: #008080; text-decoration-color: #008080\">   0</span> │ <span style=\"color: #008080; text-decoration-color: #008080\">     4.4</span> │ <span style=\"color: #008080; text-decoration-color: #008080\">       1</span> │ <span style=\"color: #008080; text-decoration-color: #008080\">       1</span> │ <span style=\"color: #008080; text-decoration-color: #008080\">       4</span> │ <span style=\"color: #008080; text-decoration-color: #008080\">       5</span> │ <span style=\"color: #008080; text-decoration-color: #008080\">       5</span> │ <span style=\"color: #008080; text-decoration-color: #008080\">       5</span> │ <span style=\"color: #008000; text-decoration-color: #008000\">   ▁▂▇</span> │  │\n",
       "│ │ <span style=\"color: #af87ff; text-decoration-color: #af87ff\">unixRevi</span> │ <span style=\"color: #008080; text-decoration-color: #008080\"> 0</span> │ <span style=\"color: #008080; text-decoration-color: #008080\">   0</span> │ <span style=\"color: #008080; text-decoration-color: #008080\">15000000</span> │ <span style=\"color: #008080; text-decoration-color: #008080\">24000000</span> │ <span style=\"color: #008080; text-decoration-color: #008080\">13000000</span> │ <span style=\"color: #008080; text-decoration-color: #008080\">15000000</span> │ <span style=\"color: #008080; text-decoration-color: #008080\">15000000</span> │ <span style=\"color: #008080; text-decoration-color: #008080\">15000000</span> │ <span style=\"color: #008080; text-decoration-color: #008080\">15000000</span> │ <span style=\"color: #008000; text-decoration-color: #008000\">    ▅▇</span> │  │\n",
       "│ │ <span style=\"color: #af87ff; text-decoration-color: #af87ff\">ewTime  </span> │    │      │ <span style=\"color: #008080; text-decoration-color: #008080\">      00</span> │          │ <span style=\"color: #008080; text-decoration-color: #008080\">      00</span> │ <span style=\"color: #008080; text-decoration-color: #008080\">      00</span> │ <span style=\"color: #008080; text-decoration-color: #008080\">      00</span> │ <span style=\"color: #008080; text-decoration-color: #008080\">      00</span> │ <span style=\"color: #008080; text-decoration-color: #008080\">      00</span> │        │  │\n",
       "│ └──────────┴────┴──────┴──────────┴──────────┴──────────┴──────────┴──────────┴──────────┴──────────┴────────┘  │\n",
       "│ <span style=\"font-style: italic\">                                                     bool                                                     </span>  │\n",
       "│ ┏━━━━━━━━━━━━━━━━━━━━━━━━━━━━━━━━━━━━┳━━━━━━━━━━━━━━━━━┳━━━━━━━━━━━━━━━━━━━━━━━━━━━━━━━┳━━━━━━━━━━━━━━━━━━━━━┓  │\n",
       "│ ┃<span style=\"font-weight: bold\"> column_name                        </span>┃<span style=\"font-weight: bold\"> true            </span>┃<span style=\"font-weight: bold\"> true rate                     </span>┃<span style=\"font-weight: bold\"> hist                </span>┃  │\n",
       "│ ┡━━━━━━━━━━━━━━━━━━━━━━━━━━━━━━━━━━━━╇━━━━━━━━━━━━━━━━━╇━━━━━━━━━━━━━━━━━━━━━━━━━━━━━━━╇━━━━━━━━━━━━━━━━━━━━━┩  │\n",
       "│ │ <span style=\"color: #af87ff; text-decoration-color: #af87ff\">verified                          </span> │ <span style=\"color: #008080; text-decoration-color: #008080\">           3079</span> │ <span style=\"color: #008080; text-decoration-color: #008080\">                         0.97</span> │ <span style=\"color: #008000; text-decoration-color: #008000\">           ▇       </span> │  │\n",
       "│ └────────────────────────────────────┴─────────────────┴───────────────────────────────┴─────────────────────┘  │\n",
       "│ <span style=\"font-style: italic\">                                                    string                                                    </span>  │\n",
       "│ ┏━━━━━━━━━━━━━━━━━━━━━━━━━━━┳━━━━━━━━━━━━┳━━━━━━━━━━━━━┳━━━━━━━━━━━━━━━━━━━━━━━━━━━━┳━━━━━━━━━━━━━━━━━━━━━━━━┓  │\n",
       "│ ┃<span style=\"font-weight: bold\"> column_name               </span>┃<span style=\"font-weight: bold\"> NA         </span>┃<span style=\"font-weight: bold\"> NA %        </span>┃<span style=\"font-weight: bold\"> words per row              </span>┃<span style=\"font-weight: bold\"> total words            </span>┃  │\n",
       "│ ┡━━━━━━━━━━━━━━━━━━━━━━━━━━━╇━━━━━━━━━━━━╇━━━━━━━━━━━━━╇━━━━━━━━━━━━━━━━━━━━━━━━━━━━╇━━━━━━━━━━━━━━━━━━━━━━━━┩  │\n",
       "│ │ <span style=\"color: #af87ff; text-decoration-color: #af87ff\">reviewTime               </span> │ <span style=\"color: #008080; text-decoration-color: #008080\">         0</span> │ <span style=\"color: #008080; text-decoration-color: #008080\">          0</span> │ <span style=\"color: #008080; text-decoration-color: #008080\">                         3</span> │ <span style=\"color: #008080; text-decoration-color: #008080\">                  9528</span> │  │\n",
       "│ │ <span style=\"color: #af87ff; text-decoration-color: #af87ff\">reviewerID               </span> │ <span style=\"color: #008080; text-decoration-color: #008080\">         0</span> │ <span style=\"color: #008080; text-decoration-color: #008080\">          0</span> │ <span style=\"color: #008080; text-decoration-color: #008080\">                         1</span> │ <span style=\"color: #008080; text-decoration-color: #008080\">                  3176</span> │  │\n",
       "│ │ <span style=\"color: #af87ff; text-decoration-color: #af87ff\">asin                     </span> │ <span style=\"color: #008080; text-decoration-color: #008080\">         0</span> │ <span style=\"color: #008080; text-decoration-color: #008080\">          0</span> │ <span style=\"color: #008080; text-decoration-color: #008080\">                         1</span> │ <span style=\"color: #008080; text-decoration-color: #008080\">                  3176</span> │  │\n",
       "│ │ <span style=\"color: #af87ff; text-decoration-color: #af87ff\">reviewerName             </span> │ <span style=\"color: #008080; text-decoration-color: #008080\">         0</span> │ <span style=\"color: #008080; text-decoration-color: #008080\">          0</span> │ <span style=\"color: #008080; text-decoration-color: #008080\">                       1.7</span> │ <span style=\"color: #008080; text-decoration-color: #008080\">                  5447</span> │  │\n",
       "│ │ <span style=\"color: #af87ff; text-decoration-color: #af87ff\">reviewText               </span> │ <span style=\"color: #008080; text-decoration-color: #008080\">        16</span> │ <span style=\"color: #008080; text-decoration-color: #008080\">        0.5</span> │ <span style=\"color: #008080; text-decoration-color: #008080\">                        25</span> │ <span style=\"color: #008080; text-decoration-color: #008080\">                 79176</span> │  │\n",
       "│ │ <span style=\"color: #af87ff; text-decoration-color: #af87ff\">summary                  </span> │ <span style=\"color: #008080; text-decoration-color: #008080\">         0</span> │ <span style=\"color: #008080; text-decoration-color: #008080\">          0</span> │ <span style=\"color: #008080; text-decoration-color: #008080\">                         4</span> │ <span style=\"color: #008080; text-decoration-color: #008080\">                 12796</span> │  │\n",
       "│ │ <span style=\"color: #af87ff; text-decoration-color: #af87ff\">vote                     </span> │ <span style=\"color: #008080; text-decoration-color: #008080\">      2879</span> │ <span style=\"color: #008080; text-decoration-color: #008080\">      90.65</span> │ <span style=\"color: #008080; text-decoration-color: #008080\">                     0.094</span> │ <span style=\"color: #008080; text-decoration-color: #008080\">                   297</span> │  │\n",
       "│ └───────────────────────────┴────────────┴─────────────┴────────────────────────────┴────────────────────────┘  │\n",
       "╰────────────────────────────────────────────────────── End ──────────────────────────────────────────────────────╯\n",
       "</pre>\n"
      ],
      "text/plain": [
       "╭──────────────────────────────────────────────── skimpy summary ─────────────────────────────────────────────────╮\n",
       "│ \u001b[3m         Data Summary         \u001b[0m \u001b[3m      Data Types       \u001b[0m                                                          │\n",
       "│ ┏━━━━━━━━━━━━━━━━━━━┳━━━━━━━━┓ ┏━━━━━━━━━━━━━┳━━━━━━━┓                                                          │\n",
       "│ ┃\u001b[1;36m \u001b[0m\u001b[1;36mdataframe        \u001b[0m\u001b[1;36m \u001b[0m┃\u001b[1;36m \u001b[0m\u001b[1;36mValues\u001b[0m\u001b[1;36m \u001b[0m┃ ┃\u001b[1;36m \u001b[0m\u001b[1;36mColumn Type\u001b[0m\u001b[1;36m \u001b[0m┃\u001b[1;36m \u001b[0m\u001b[1;36mCount\u001b[0m\u001b[1;36m \u001b[0m┃                                                          │\n",
       "│ ┡━━━━━━━━━━━━━━━━━━━╇━━━━━━━━┩ ┡━━━━━━━━━━━━━╇━━━━━━━┩                                                          │\n",
       "│ │ Number of rows    │ 3176   │ │ string      │ 7     │                                                          │\n",
       "│ │ Number of columns │ 10     │ │ float64     │ 1     │                                                          │\n",
       "│ └───────────────────┴────────┘ │ bool        │ 1     │                                                          │\n",
       "│                                │ int32       │ 1     │                                                          │\n",
       "│                                └─────────────┴───────┘                                                          │\n",
       "│ \u001b[3m                                                    number                                                    \u001b[0m  │\n",
       "│ ┏━━━━━━━━━━┳━━━━┳━━━━━━┳━━━━━━━━━━┳━━━━━━━━━━┳━━━━━━━━━━┳━━━━━━━━━━┳━━━━━━━━━━┳━━━━━━━━━━┳━━━━━━━━━━┳━━━━━━━━┓  │\n",
       "│ ┃\u001b[1m \u001b[0m\u001b[1mcolumn_n\u001b[0m\u001b[1m \u001b[0m┃\u001b[1m    \u001b[0m┃\u001b[1m      \u001b[0m┃\u001b[1m          \u001b[0m┃\u001b[1m          \u001b[0m┃\u001b[1m          \u001b[0m┃\u001b[1m          \u001b[0m┃\u001b[1m          \u001b[0m┃\u001b[1m          \u001b[0m┃\u001b[1m          \u001b[0m┃\u001b[1m        \u001b[0m┃  │\n",
       "│ ┃\u001b[1m \u001b[0m\u001b[1mame     \u001b[0m\u001b[1m \u001b[0m┃\u001b[1m \u001b[0m\u001b[1mNA\u001b[0m\u001b[1m \u001b[0m┃\u001b[1m \u001b[0m\u001b[1mNA %\u001b[0m\u001b[1m \u001b[0m┃\u001b[1m \u001b[0m\u001b[1mmean    \u001b[0m\u001b[1m \u001b[0m┃\u001b[1m \u001b[0m\u001b[1msd      \u001b[0m\u001b[1m \u001b[0m┃\u001b[1m \u001b[0m\u001b[1mp0      \u001b[0m\u001b[1m \u001b[0m┃\u001b[1m \u001b[0m\u001b[1mp25     \u001b[0m\u001b[1m \u001b[0m┃\u001b[1m \u001b[0m\u001b[1mp50     \u001b[0m\u001b[1m \u001b[0m┃\u001b[1m \u001b[0m\u001b[1mp75     \u001b[0m\u001b[1m \u001b[0m┃\u001b[1m \u001b[0m\u001b[1mp100    \u001b[0m\u001b[1m \u001b[0m┃\u001b[1m \u001b[0m\u001b[1mhist  \u001b[0m\u001b[1m \u001b[0m┃  │\n",
       "│ ┡━━━━━━━━━━╇━━━━╇━━━━━━╇━━━━━━━━━━╇━━━━━━━━━━╇━━━━━━━━━━╇━━━━━━━━━━╇━━━━━━━━━━╇━━━━━━━━━━╇━━━━━━━━━━╇━━━━━━━━┩  │\n",
       "│ │ \u001b[38;5;141moverall \u001b[0m │ \u001b[36m 0\u001b[0m │ \u001b[36m   0\u001b[0m │ \u001b[36m     4.4\u001b[0m │ \u001b[36m       1\u001b[0m │ \u001b[36m       1\u001b[0m │ \u001b[36m       4\u001b[0m │ \u001b[36m       5\u001b[0m │ \u001b[36m       5\u001b[0m │ \u001b[36m       5\u001b[0m │ \u001b[32m   ▁▂▇\u001b[0m │  │\n",
       "│ │ \u001b[38;5;141munixRevi\u001b[0m │ \u001b[36m 0\u001b[0m │ \u001b[36m   0\u001b[0m │ \u001b[36m15000000\u001b[0m │ \u001b[36m24000000\u001b[0m │ \u001b[36m13000000\u001b[0m │ \u001b[36m15000000\u001b[0m │ \u001b[36m15000000\u001b[0m │ \u001b[36m15000000\u001b[0m │ \u001b[36m15000000\u001b[0m │ \u001b[32m    ▅▇\u001b[0m │  │\n",
       "│ │ \u001b[38;5;141mewTime  \u001b[0m │    │      │ \u001b[36m      00\u001b[0m │          │ \u001b[36m      00\u001b[0m │ \u001b[36m      00\u001b[0m │ \u001b[36m      00\u001b[0m │ \u001b[36m      00\u001b[0m │ \u001b[36m      00\u001b[0m │        │  │\n",
       "│ └──────────┴────┴──────┴──────────┴──────────┴──────────┴──────────┴──────────┴──────────┴──────────┴────────┘  │\n",
       "│ \u001b[3m                                                     bool                                                     \u001b[0m  │\n",
       "│ ┏━━━━━━━━━━━━━━━━━━━━━━━━━━━━━━━━━━━━┳━━━━━━━━━━━━━━━━━┳━━━━━━━━━━━━━━━━━━━━━━━━━━━━━━━┳━━━━━━━━━━━━━━━━━━━━━┓  │\n",
       "│ ┃\u001b[1m \u001b[0m\u001b[1mcolumn_name                       \u001b[0m\u001b[1m \u001b[0m┃\u001b[1m \u001b[0m\u001b[1mtrue           \u001b[0m\u001b[1m \u001b[0m┃\u001b[1m \u001b[0m\u001b[1mtrue rate                    \u001b[0m\u001b[1m \u001b[0m┃\u001b[1m \u001b[0m\u001b[1mhist               \u001b[0m\u001b[1m \u001b[0m┃  │\n",
       "│ ┡━━━━━━━━━━━━━━━━━━━━━━━━━━━━━━━━━━━━╇━━━━━━━━━━━━━━━━━╇━━━━━━━━━━━━━━━━━━━━━━━━━━━━━━━╇━━━━━━━━━━━━━━━━━━━━━┩  │\n",
       "│ │ \u001b[38;5;141mverified                          \u001b[0m │ \u001b[36m           3079\u001b[0m │ \u001b[36m                         0.97\u001b[0m │ \u001b[32m           ▇       \u001b[0m │  │\n",
       "│ └────────────────────────────────────┴─────────────────┴───────────────────────────────┴─────────────────────┘  │\n",
       "│ \u001b[3m                                                    string                                                    \u001b[0m  │\n",
       "│ ┏━━━━━━━━━━━━━━━━━━━━━━━━━━━┳━━━━━━━━━━━━┳━━━━━━━━━━━━━┳━━━━━━━━━━━━━━━━━━━━━━━━━━━━┳━━━━━━━━━━━━━━━━━━━━━━━━┓  │\n",
       "│ ┃\u001b[1m \u001b[0m\u001b[1mcolumn_name              \u001b[0m\u001b[1m \u001b[0m┃\u001b[1m \u001b[0m\u001b[1mNA        \u001b[0m\u001b[1m \u001b[0m┃\u001b[1m \u001b[0m\u001b[1mNA %       \u001b[0m\u001b[1m \u001b[0m┃\u001b[1m \u001b[0m\u001b[1mwords per row             \u001b[0m\u001b[1m \u001b[0m┃\u001b[1m \u001b[0m\u001b[1mtotal words           \u001b[0m\u001b[1m \u001b[0m┃  │\n",
       "│ ┡━━━━━━━━━━━━━━━━━━━━━━━━━━━╇━━━━━━━━━━━━╇━━━━━━━━━━━━━╇━━━━━━━━━━━━━━━━━━━━━━━━━━━━╇━━━━━━━━━━━━━━━━━━━━━━━━┩  │\n",
       "│ │ \u001b[38;5;141mreviewTime               \u001b[0m │ \u001b[36m         0\u001b[0m │ \u001b[36m          0\u001b[0m │ \u001b[36m                         3\u001b[0m │ \u001b[36m                  9528\u001b[0m │  │\n",
       "│ │ \u001b[38;5;141mreviewerID               \u001b[0m │ \u001b[36m         0\u001b[0m │ \u001b[36m          0\u001b[0m │ \u001b[36m                         1\u001b[0m │ \u001b[36m                  3176\u001b[0m │  │\n",
       "│ │ \u001b[38;5;141masin                     \u001b[0m │ \u001b[36m         0\u001b[0m │ \u001b[36m          0\u001b[0m │ \u001b[36m                         1\u001b[0m │ \u001b[36m                  3176\u001b[0m │  │\n",
       "│ │ \u001b[38;5;141mreviewerName             \u001b[0m │ \u001b[36m         0\u001b[0m │ \u001b[36m          0\u001b[0m │ \u001b[36m                       1.7\u001b[0m │ \u001b[36m                  5447\u001b[0m │  │\n",
       "│ │ \u001b[38;5;141mreviewText               \u001b[0m │ \u001b[36m        16\u001b[0m │ \u001b[36m        0.5\u001b[0m │ \u001b[36m                        25\u001b[0m │ \u001b[36m                 79176\u001b[0m │  │\n",
       "│ │ \u001b[38;5;141msummary                  \u001b[0m │ \u001b[36m         0\u001b[0m │ \u001b[36m          0\u001b[0m │ \u001b[36m                         4\u001b[0m │ \u001b[36m                 12796\u001b[0m │  │\n",
       "│ │ \u001b[38;5;141mvote                     \u001b[0m │ \u001b[36m      2879\u001b[0m │ \u001b[36m      90.65\u001b[0m │ \u001b[36m                     0.094\u001b[0m │ \u001b[36m                   297\u001b[0m │  │\n",
       "│ └───────────────────────────┴────────────┴─────────────┴────────────────────────────┴────────────────────────┘  │\n",
       "╰────────────────────────────────────────────────────── End ──────────────────────────────────────────────────────╯\n"
      ]
     },
     "metadata": {},
     "output_type": "display_data"
    }
   ],
   "source": [
    "skim(df)"
   ]
  },
  {
   "cell_type": "code",
   "execution_count": 5,
   "id": "2d396d42",
   "metadata": {
    "papermill": {
     "duration": 0.019516,
     "end_time": "2024-02-28T16:24:06.177519",
     "exception": false,
     "start_time": "2024-02-28T16:24:06.158003",
     "status": "completed"
    },
    "tags": []
   },
   "outputs": [
    {
     "data": {
      "text/plain": [
       "Index(['overall', 'verified', 'reviewTime', 'reviewerID', 'asin', 'style',\n",
       "       'reviewerName', 'reviewText', 'summary', 'unixReviewTime', 'vote',\n",
       "       'image'],\n",
       "      dtype='object')"
      ]
     },
     "execution_count": 5,
     "metadata": {},
     "output_type": "execute_result"
    }
   ],
   "source": [
    "df.columns"
   ]
  },
  {
   "cell_type": "code",
   "execution_count": 6,
   "id": "e441cd3a",
   "metadata": {
    "papermill": {
     "duration": 0.022615,
     "end_time": "2024-02-28T16:24:06.209725",
     "exception": false,
     "start_time": "2024-02-28T16:24:06.187110",
     "status": "completed"
    },
    "tags": []
   },
   "outputs": [
    {
     "data": {
      "text/plain": [
       "overall              0\n",
       "verified             0\n",
       "reviewTime           0\n",
       "reviewerID           0\n",
       "asin                 0\n",
       "style               69\n",
       "reviewerName         0\n",
       "reviewText          16\n",
       "summary              0\n",
       "unixReviewTime       0\n",
       "vote              2879\n",
       "image             3070\n",
       "dtype: int64"
      ]
     },
     "execution_count": 6,
     "metadata": {},
     "output_type": "execute_result"
    }
   ],
   "source": [
    "df.isnull().sum()"
   ]
  },
  {
   "cell_type": "code",
   "execution_count": 7,
   "id": "42d3382a",
   "metadata": {
    "papermill": {
     "duration": 0.271949,
     "end_time": "2024-02-28T16:24:06.491374",
     "exception": false,
     "start_time": "2024-02-28T16:24:06.219425",
     "status": "completed"
    },
    "tags": []
   },
   "outputs": [
    {
     "data": {
      "image/png": "[encoded data removed]",
      "text/plain": [
       "<Figure size 1000x600 with 1 Axes>"
      ]
     },
     "metadata": {},
     "output_type": "display_data"
    }
   ],
   "source": [
    "#Distribution of the number of reviews across products\n",
    "reviews_per_product = df['asin'].value_counts()\n",
    "plt.figure(figsize=(10, 6))\n",
    "plt.hist(reviews_per_product, bins=30, color='skyblue', edgecolor='black')\n",
    "plt.title('Distribution of Number of Reviews Across Products')\n",
    "plt.xlabel('Number of Reviews')\n",
    "plt.ylabel('Number of Products')\n",
    "plt.grid(True)\n",
    "plt.show()\n",
    "\n"
   ]
  },
  {
   "cell_type": "code",
   "execution_count": 8,
   "id": "e6f86d46",
   "metadata": {
    "papermill": {
     "duration": 0.39975,
     "end_time": "2024-02-28T16:24:06.901566",
     "exception": false,
     "start_time": "2024-02-28T16:24:06.501816",
     "status": "completed"
    },
    "tags": []
   },
   "outputs": [
    {
     "data": {
      "image/png": "[encoded data removed]",
      "text/plain": [
       "<Figure size 1200x600 with 1 Axes>"
      ]
     },
     "metadata": {},
     "output_type": "display_data"
    }
   ],
   "source": [
    "plt.figure(figsize=(12, 6))\n",
    "reviews_per_product.plot(kind='bar', color='skyblue', edgecolor='black')\n",
    "plt.title('Distribution of Reviews Across Products')\n",
    "plt.xlabel('Product ID')\n",
    "plt.ylabel('Number of Reviews')\n",
    "plt.xticks(rotation=90)  \n",
    "plt.grid(axis='y')  \n",
    "plt.tight_layout()  \n",
    "plt.show()"
   ]
  },
  {
   "cell_type": "code",
   "execution_count": 9,
   "id": "39da1cf1",
   "metadata": {
    "papermill": {
     "duration": 0.232038,
     "end_time": "2024-02-28T16:24:07.145667",
     "exception": false,
     "start_time": "2024-02-28T16:24:06.913629",
     "status": "completed"
    },
    "tags": []
   },
   "outputs": [
    {
     "data": {
      "image/png": "[encoded data removed]",
      "text/plain": [
       "<Figure size 1000x600 with 1 Axes>"
      ]
     },
     "metadata": {},
     "output_type": "display_data"
    }
   ],
   "source": [
    "# Distribution of reviews per user\n",
    "reviews_per_user = df['reviewerID'].value_counts()\n",
    "\n",
    "plt.figure(figsize=(10, 6))\n",
    "plt.hist(reviews_per_user, bins=30, color='skyblue', edgecolor='black')\n",
    "plt.title('Distribution of Reviews per User')\n",
    "plt.xlabel('Number of Reviews')\n",
    "plt.ylabel('Number of Users')\n",
    "plt.grid(True)\n",
    "plt.show()"
   ]
  },
  {
   "cell_type": "code",
   "execution_count": 10,
   "id": "e92072bb",
   "metadata": {
    "papermill": {
     "duration": 0.137497,
     "end_time": "2024-02-28T16:24:07.294594",
     "exception": false,
     "start_time": "2024-02-28T16:24:07.157097",
     "status": "completed"
    },
    "tags": []
   },
   "outputs": [
    {
     "data": {
      "image/png": "[encoded data removed]",
      "text/plain": [
       "<Figure size 800x600 with 1 Axes>"
      ]
     },
     "metadata": {},
     "output_type": "display_data"
    }
   ],
   "source": [
    "# Analyze review lengths with boxplot\n",
    "df['review_length'] = df['reviewText'].str.len()\n",
    "plt.figure(figsize=(8, 6))\n",
    "sns.boxplot(x=df['review_length'])\n",
    "plt.title('Distribution of Review Lengths')\n",
    "plt.xlabel('Review Length')\n",
    "plt.show()"
   ]
  },
  {
   "cell_type": "code",
   "execution_count": 11,
   "id": "03fa5b6f",
   "metadata": {
    "papermill": {
     "duration": 0.022861,
     "end_time": "2024-02-28T16:24:07.329192",
     "exception": false,
     "start_time": "2024-02-28T16:24:07.306331",
     "status": "completed"
    },
    "tags": []
   },
   "outputs": [
    {
     "name": "stdout",
     "output_type": "stream",
     "text": [
      "Review Length Statistics:\n",
      "count    3160.000000\n",
      "mean      131.780063\n",
      "std       167.862489\n",
      "min         1.000000\n",
      "25%        30.000000\n",
      "50%        77.500000\n",
      "75%       173.000000\n",
      "max      1366.000000\n",
      "Name: review_length, dtype: float64\n"
     ]
    }
   ],
   "source": [
    "# Calculate descriptive statistics for review lengths\n",
    "review_length_stats = df['review_length'].describe()\n",
    "\n",
    "print(\"Review Length Statistics:\")\n",
    "print(review_length_stats)"
   ]
  },
  {
   "cell_type": "code",
   "execution_count": 12,
   "id": "166228ae",
   "metadata": {
    "papermill": {
     "duration": 0.345192,
     "end_time": "2024-02-28T16:24:07.686992",
     "exception": false,
     "start_time": "2024-02-28T16:24:07.341800",
     "status": "completed"
    },
    "tags": []
   },
   "outputs": [
    {
     "name": "stderr",
     "output_type": "stream",
     "text": [
      "C:\\ProgramData\\anaconda3\\Lib\\site-packages\\seaborn\\_oldcore.py:1119: FutureWarning: use_inf_as_na option is deprecated and will be removed in a future version. Convert inf values to NaN before operating instead.\n",
      "  with pd.option_context('mode.use_inf_as_na', True):\n"
     ]
    },
    {
     "data": {
      "image/png": "[encoded data removed]",
      "text/plain": [
       "<Figure size 1000x600 with 1 Axes>"
      ]
     },
     "metadata": {},
     "output_type": "display_data"
    }
   ],
   "source": [
    "# Plot histogram of review lengths\n",
    "plt.figure(figsize=(10, 6))\n",
    "sns.histplot(df['review_length'], kde=True, color='skyblue')\n",
    "plt.title('Distribution of Review Lengths')\n",
    "plt.xlabel('Review Length (characters)')\n",
    "plt.ylabel('Frequency')\n",
    "plt.grid(True)\n",
    "plt.show()"
   ]
  },
  {
   "cell_type": "code",
   "execution_count": 13,
   "id": "e9c25b8e",
   "metadata": {
    "papermill": {
     "duration": 0.025517,
     "end_time": "2024-02-28T16:24:07.724990",
     "exception": false,
     "start_time": "2024-02-28T16:24:07.699473",
     "status": "completed"
    },
    "tags": []
   },
   "outputs": [
    {
     "name": "stdout",
     "output_type": "stream",
     "text": [
      "Unique values in the 'overall' column:\n",
      "[5. 3. 2. 1. 4.]\n",
      "Sum of unique values in the 'overall' column: 5\n",
      "\n",
      "Unique values in the 'verified' column:\n",
      "[ True False]\n",
      "Sum of unique values in the 'verified' column: 2\n",
      "\n",
      "Unique values in the 'vote' column:\n",
      "[nan '35' '3' '2' '7' '6' '4' '8' '5' '19' '14' '10' '20' '22' '21' '11']\n",
      "Sum of unique values in the 'vote' column: 16\n",
      "\n"
     ]
    }
   ],
   "source": [
    "columns_of_interest = ['overall', 'verified',  'vote']\n",
    "\n",
    "for column in columns_of_interest:\n",
    "    unique_values = df[column].unique()\n",
    "    sum_unique_values = len(unique_values)\n",
    "    print(f\"Unique values in the '{column}' column:\")\n",
    "    print(unique_values)\n",
    "    print(f\"Sum of unique values in the '{column}' column: {sum_unique_values}\")\n",
    "    print()"
   ]
  },
  {
   "cell_type": "code",
   "execution_count": 14,
   "id": "9eaeafe2",
   "metadata": {
    "papermill": {
     "duration": 0.024439,
     "end_time": "2024-02-28T16:24:07.761496",
     "exception": false,
     "start_time": "2024-02-28T16:24:07.737057",
     "status": "completed"
    },
    "tags": []
   },
   "outputs": [
    {
     "data": {
      "text/plain": [
       "167"
      ]
     },
     "execution_count": 14,
     "metadata": {},
     "output_type": "execute_result"
    }
   ],
   "source": [
    "#duplicate review\n",
    "duplicate_reviews = df[df.duplicated(subset=['reviewerID', 'asin', 'reviewText'], keep=False)]\n",
    "len(duplicate_reviews)"
   ]
  },
  {
   "cell_type": "markdown",
   "id": "9ce7ae5c",
   "metadata": {
    "papermill": {
     "duration": 0.011784,
     "end_time": "2024-02-28T16:24:07.785264",
     "exception": false,
     "start_time": "2024-02-28T16:24:07.773480",
     "status": "completed"
    },
    "tags": []
   },
   "source": [
    "## **TEXT BASIC PRE-PROCESSING**"
   ]
  },
  {
   "cell_type": "code",
   "execution_count": 15,
   "id": "3b62df70",
   "metadata": {
    "papermill": {
     "duration": 0.036548,
     "end_time": "2024-02-28T16:24:07.833749",
     "exception": false,
     "start_time": "2024-02-28T16:24:07.797201",
     "status": "completed"
    },
    "tags": []
   },
   "outputs": [
    {
     "data": {
      "text/html": [
       "<div>\n",
       "<style scoped>\n",
       "    .dataframe tbody tr th:only-of-type {\n",
       "        vertical-align: middle;\n",
       "    }\n",
       "\n",
       "    .dataframe tbody tr th {\n",
       "        vertical-align: top;\n",
       "    }\n",
       "\n",
       "    .dataframe thead th {\n",
       "        text-align: right;\n",
       "    }\n",
       "</style>\n",
       "<table border=\"1\" class=\"dataframe\">\n",
       "  <thead>\n",
       "    <tr style=\"text-align: right;\">\n",
       "      <th></th>\n",
       "      <th>overall</th>\n",
       "      <th>verified</th>\n",
       "      <th>reviewTime</th>\n",
       "      <th>reviewerID</th>\n",
       "      <th>asin</th>\n",
       "      <th>style</th>\n",
       "      <th>reviewerName</th>\n",
       "      <th>reviewText</th>\n",
       "      <th>summary</th>\n",
       "      <th>unixReviewTime</th>\n",
       "      <th>vote</th>\n",
       "      <th>image</th>\n",
       "      <th>review_length</th>\n",
       "      <th>sentiment_label</th>\n",
       "    </tr>\n",
       "  </thead>\n",
       "  <tbody>\n",
       "    <tr>\n",
       "      <th>0</th>\n",
       "      <td>5.0</td>\n",
       "      <td>True</td>\n",
       "      <td>09 4, 2015</td>\n",
       "      <td>ALJ66O1Y6SLHA</td>\n",
       "      <td>B000K2PJ4K</td>\n",
       "      <td>{'Size:': ' Big Boys', 'Color:': ' Blue/Orange'}</td>\n",
       "      <td>Tonya B.</td>\n",
       "      <td>Great product and price!</td>\n",
       "      <td>Five Stars</td>\n",
       "      <td>1441324800</td>\n",
       "      <td>NaN</td>\n",
       "      <td>NaN</td>\n",
       "      <td>24.0</td>\n",
       "      <td>Positive</td>\n",
       "    </tr>\n",
       "    <tr>\n",
       "      <th>1</th>\n",
       "      <td>5.0</td>\n",
       "      <td>True</td>\n",
       "      <td>09 4, 2015</td>\n",
       "      <td>ALJ66O1Y6SLHA</td>\n",
       "      <td>B000K2PJ4K</td>\n",
       "      <td>{'Size:': ' Big Boys', 'Color:': ' Black (3746...</td>\n",
       "      <td>Tonya B.</td>\n",
       "      <td>Great product and price!</td>\n",
       "      <td>Five Stars</td>\n",
       "      <td>1441324800</td>\n",
       "      <td>NaN</td>\n",
       "      <td>NaN</td>\n",
       "      <td>24.0</td>\n",
       "      <td>Positive</td>\n",
       "    </tr>\n",
       "    <tr>\n",
       "      <th>2</th>\n",
       "      <td>5.0</td>\n",
       "      <td>True</td>\n",
       "      <td>09 4, 2015</td>\n",
       "      <td>ALJ66O1Y6SLHA</td>\n",
       "      <td>B000K2PJ4K</td>\n",
       "      <td>{'Size:': ' Big Boys', 'Color:': ' Blue/Gray L...</td>\n",
       "      <td>Tonya B.</td>\n",
       "      <td>Great product and price!</td>\n",
       "      <td>Five Stars</td>\n",
       "      <td>1441324800</td>\n",
       "      <td>NaN</td>\n",
       "      <td>NaN</td>\n",
       "      <td>24.0</td>\n",
       "      <td>Positive</td>\n",
       "    </tr>\n",
       "    <tr>\n",
       "      <th>3</th>\n",
       "      <td>5.0</td>\n",
       "      <td>True</td>\n",
       "      <td>09 4, 2015</td>\n",
       "      <td>ALJ66O1Y6SLHA</td>\n",
       "      <td>B000K2PJ4K</td>\n",
       "      <td>{'Size:': ' Big Boys', 'Color:': ' Blue (37867...</td>\n",
       "      <td>Tonya B.</td>\n",
       "      <td>Great product and price!</td>\n",
       "      <td>Five Stars</td>\n",
       "      <td>1441324800</td>\n",
       "      <td>NaN</td>\n",
       "      <td>NaN</td>\n",
       "      <td>24.0</td>\n",
       "      <td>Positive</td>\n",
       "    </tr>\n",
       "    <tr>\n",
       "      <th>4</th>\n",
       "      <td>5.0</td>\n",
       "      <td>True</td>\n",
       "      <td>09 4, 2015</td>\n",
       "      <td>ALJ66O1Y6SLHA</td>\n",
       "      <td>B000K2PJ4K</td>\n",
       "      <td>{'Size:': ' Big Boys', 'Color:': ' Blue/Pink'}</td>\n",
       "      <td>Tonya B.</td>\n",
       "      <td>Great product and price!</td>\n",
       "      <td>Five Stars</td>\n",
       "      <td>1441324800</td>\n",
       "      <td>NaN</td>\n",
       "      <td>NaN</td>\n",
       "      <td>24.0</td>\n",
       "      <td>Positive</td>\n",
       "    </tr>\n",
       "  </tbody>\n",
       "</table>\n",
       "</div>"
      ],
      "text/plain": [
       "   overall  verified  reviewTime     reviewerID        asin  \\\n",
       "0      5.0      True  09 4, 2015  ALJ66O1Y6SLHA  B000K2PJ4K   \n",
       "1      5.0      True  09 4, 2015  ALJ66O1Y6SLHA  B000K2PJ4K   \n",
       "2      5.0      True  09 4, 2015  ALJ66O1Y6SLHA  B000K2PJ4K   \n",
       "3      5.0      True  09 4, 2015  ALJ66O1Y6SLHA  B000K2PJ4K   \n",
       "4      5.0      True  09 4, 2015  ALJ66O1Y6SLHA  B000K2PJ4K   \n",
       "\n",
       "                                               style reviewerName  \\\n",
       "0   {'Size:': ' Big Boys', 'Color:': ' Blue/Orange'}     Tonya B.   \n",
       "1  {'Size:': ' Big Boys', 'Color:': ' Black (3746...     Tonya B.   \n",
       "2  {'Size:': ' Big Boys', 'Color:': ' Blue/Gray L...     Tonya B.   \n",
       "3  {'Size:': ' Big Boys', 'Color:': ' Blue (37867...     Tonya B.   \n",
       "4     {'Size:': ' Big Boys', 'Color:': ' Blue/Pink'}     Tonya B.   \n",
       "\n",
       "                 reviewText     summary  unixReviewTime vote image  \\\n",
       "0  Great product and price!  Five Stars      1441324800  NaN   NaN   \n",
       "1  Great product and price!  Five Stars      1441324800  NaN   NaN   \n",
       "2  Great product and price!  Five Stars      1441324800  NaN   NaN   \n",
       "3  Great product and price!  Five Stars      1441324800  NaN   NaN   \n",
       "4  Great product and price!  Five Stars      1441324800  NaN   NaN   \n",
       "\n",
       "   review_length sentiment_label  \n",
       "0           24.0        Positive  \n",
       "1           24.0        Positive  \n",
       "2           24.0        Positive  \n",
       "3           24.0        Positive  \n",
       "4           24.0        Positive  "
      ]
     },
     "metadata": {},
     "output_type": "display_data"
    }
   ],
   "source": [
    "# Define a function to label the data \n",
    "def label_sentiment(rating):\n",
    "    if rating >= 4:\n",
    "        return 'Positive'\n",
    "    elif rating == 3:\n",
    "        return 'Neutral'\n",
    "    else:\n",
    "        return 'Negative'\n",
    "\n",
    "# create a new column 'sentiment' based on the rating\n",
    "df['sentiment_label'] = df['overall'].apply(label_sentiment)\n",
    "\n",
    "# Checking the changes \n",
    "display(df.head())\n"
   ]
  },
  {
   "cell_type": "code",
   "execution_count": 16,
   "id": "3069a937",
   "metadata": {
    "papermill": {
     "duration": 0.023672,
     "end_time": "2024-02-28T16:24:07.870062",
     "exception": false,
     "start_time": "2024-02-28T16:24:07.846390",
     "status": "completed"
    },
    "tags": []
   },
   "outputs": [
    {
     "data": {
      "text/plain": [
       "Index(['verified', 'reviewTime', 'reviewText', 'summary', 'review_length',\n",
       "       'sentiment_label'],\n",
       "      dtype='object')"
      ]
     },
     "execution_count": 16,
     "metadata": {},
     "output_type": "execute_result"
    }
   ],
   "source": [
    "df_bkp = df.copy()\n",
    "# Dropping not usefull columns \n",
    "df.drop(columns=['overall', 'reviewerID','asin','style','reviewerName',\n",
    "                        'unixReviewTime','vote', 'image'], inplace=True)\n",
    "\n",
    "df.columns"
   ]
  },
  {
   "cell_type": "code",
   "execution_count": 17,
   "id": "b9ed810c",
   "metadata": {
    "papermill": {
     "duration": 0.030273,
     "end_time": "2024-02-28T16:24:07.914656",
     "exception": false,
     "start_time": "2024-02-28T16:24:07.884383",
     "status": "completed"
    },
    "tags": []
   },
   "outputs": [
    {
     "data": {
      "text/html": [
       "<div>\n",
       "<style scoped>\n",
       "    .dataframe tbody tr th:only-of-type {\n",
       "        vertical-align: middle;\n",
       "    }\n",
       "\n",
       "    .dataframe tbody tr th {\n",
       "        vertical-align: top;\n",
       "    }\n",
       "\n",
       "    .dataframe thead th {\n",
       "        text-align: right;\n",
       "    }\n",
       "</style>\n",
       "<table border=\"1\" class=\"dataframe\">\n",
       "  <thead>\n",
       "    <tr style=\"text-align: right;\">\n",
       "      <th></th>\n",
       "      <th>verified</th>\n",
       "      <th>reviewTime</th>\n",
       "      <th>reviewText</th>\n",
       "      <th>summary</th>\n",
       "      <th>review_length</th>\n",
       "      <th>sentiment_label</th>\n",
       "    </tr>\n",
       "  </thead>\n",
       "  <tbody>\n",
       "    <tr>\n",
       "      <th>0</th>\n",
       "      <td>True</td>\n",
       "      <td>09 4, 2015</td>\n",
       "      <td>Great product and price!</td>\n",
       "      <td>Five Stars</td>\n",
       "      <td>24.0</td>\n",
       "      <td>Positive</td>\n",
       "    </tr>\n",
       "    <tr>\n",
       "      <th>1</th>\n",
       "      <td>True</td>\n",
       "      <td>09 4, 2015</td>\n",
       "      <td>Great product and price!</td>\n",
       "      <td>Five Stars</td>\n",
       "      <td>24.0</td>\n",
       "      <td>Positive</td>\n",
       "    </tr>\n",
       "    <tr>\n",
       "      <th>2</th>\n",
       "      <td>True</td>\n",
       "      <td>09 4, 2015</td>\n",
       "      <td>Great product and price!</td>\n",
       "      <td>Five Stars</td>\n",
       "      <td>24.0</td>\n",
       "      <td>Positive</td>\n",
       "    </tr>\n",
       "    <tr>\n",
       "      <th>3</th>\n",
       "      <td>True</td>\n",
       "      <td>09 4, 2015</td>\n",
       "      <td>Great product and price!</td>\n",
       "      <td>Five Stars</td>\n",
       "      <td>24.0</td>\n",
       "      <td>Positive</td>\n",
       "    </tr>\n",
       "    <tr>\n",
       "      <th>4</th>\n",
       "      <td>True</td>\n",
       "      <td>09 4, 2015</td>\n",
       "      <td>Great product and price!</td>\n",
       "      <td>Five Stars</td>\n",
       "      <td>24.0</td>\n",
       "      <td>Positive</td>\n",
       "    </tr>\n",
       "    <tr>\n",
       "      <th>...</th>\n",
       "      <td>...</td>\n",
       "      <td>...</td>\n",
       "      <td>...</td>\n",
       "      <td>...</td>\n",
       "      <td>...</td>\n",
       "      <td>...</td>\n",
       "    </tr>\n",
       "    <tr>\n",
       "      <th>3169</th>\n",
       "      <td>True</td>\n",
       "      <td>07 5, 2018</td>\n",
       "      <td>I love this shoes they are so comfortable</td>\n",
       "      <td>Five Stars</td>\n",
       "      <td>41.0</td>\n",
       "      <td>Positive</td>\n",
       "    </tr>\n",
       "    <tr>\n",
       "      <th>3171</th>\n",
       "      <td>True</td>\n",
       "      <td>07 2, 2018</td>\n",
       "      <td>Perfect fit!</td>\n",
       "      <td>Five Stars</td>\n",
       "      <td>12.0</td>\n",
       "      <td>Positive</td>\n",
       "    </tr>\n",
       "    <tr>\n",
       "      <th>3172</th>\n",
       "      <td>True</td>\n",
       "      <td>06 28, 2018</td>\n",
       "      <td>My favorite cross trainers!</td>\n",
       "      <td>Comfortable</td>\n",
       "      <td>27.0</td>\n",
       "      <td>Positive</td>\n",
       "    </tr>\n",
       "    <tr>\n",
       "      <th>3173</th>\n",
       "      <td>True</td>\n",
       "      <td>06 25, 2018</td>\n",
       "      <td>Love them fit perfect</td>\n",
       "      <td>Five Stars</td>\n",
       "      <td>21.0</td>\n",
       "      <td>Positive</td>\n",
       "    </tr>\n",
       "    <tr>\n",
       "      <th>3175</th>\n",
       "      <td>True</td>\n",
       "      <td>06 16, 2018</td>\n",
       "      <td>I wear these everyday to work, the gym, etc.</td>\n",
       "      <td>Five Stars</td>\n",
       "      <td>44.0</td>\n",
       "      <td>Positive</td>\n",
       "    </tr>\n",
       "  </tbody>\n",
       "</table>\n",
       "<p>2535 rows × 6 columns</p>\n",
       "</div>"
      ],
      "text/plain": [
       "      verified   reviewTime                                    reviewText  \\\n",
       "0         True   09 4, 2015                      Great product and price!   \n",
       "1         True   09 4, 2015                      Great product and price!   \n",
       "2         True   09 4, 2015                      Great product and price!   \n",
       "3         True   09 4, 2015                      Great product and price!   \n",
       "4         True   09 4, 2015                      Great product and price!   \n",
       "...        ...          ...                                           ...   \n",
       "3169      True   07 5, 2018     I love this shoes they are so comfortable   \n",
       "3171      True   07 2, 2018                                  Perfect fit!   \n",
       "3172      True  06 28, 2018                   My favorite cross trainers!   \n",
       "3173      True  06 25, 2018                         Love them fit perfect   \n",
       "3175      True  06 16, 2018  I wear these everyday to work, the gym, etc.   \n",
       "\n",
       "          summary  review_length sentiment_label  \n",
       "0      Five Stars           24.0        Positive  \n",
       "1      Five Stars           24.0        Positive  \n",
       "2      Five Stars           24.0        Positive  \n",
       "3      Five Stars           24.0        Positive  \n",
       "4      Five Stars           24.0        Positive  \n",
       "...           ...            ...             ...  \n",
       "3169   Five Stars           41.0        Positive  \n",
       "3171   Five Stars           12.0        Positive  \n",
       "3172  Comfortable           27.0        Positive  \n",
       "3173   Five Stars           21.0        Positive  \n",
       "3175   Five Stars           44.0        Positive  \n",
       "\n",
       "[2535 rows x 6 columns]"
      ]
     },
     "execution_count": 17,
     "metadata": {},
     "output_type": "execute_result"
    }
   ],
   "source": [
    "df = df[df['review_length'] <= 200]\n",
    "df"
   ]
  },
  {
   "cell_type": "code",
   "execution_count": 18,
   "id": "1cdc4387",
   "metadata": {
    "papermill": {
     "duration": 0.279526,
     "end_time": "2024-02-28T16:24:08.207327",
     "exception": false,
     "start_time": "2024-02-28T16:24:07.927801",
     "status": "completed"
    },
    "tags": []
   },
   "outputs": [
    {
     "name": "stderr",
     "output_type": "stream",
     "text": [
      "C:\\ProgramData\\anaconda3\\Lib\\site-packages\\seaborn\\_oldcore.py:1119: FutureWarning: use_inf_as_na option is deprecated and will be removed in a future version. Convert inf values to NaN before operating instead.\n",
      "  with pd.option_context('mode.use_inf_as_na', True):\n"
     ]
    },
    {
     "data": {
      "image/png": "[encoded data removed]",
      "text/plain": [
       "<Figure size 1000x600 with 1 Axes>"
      ]
     },
     "metadata": {},
     "output_type": "display_data"
    }
   ],
   "source": [
    "# Plot histogram of review lengths\n",
    "plt.figure(figsize=(10, 6))\n",
    "sns.histplot(df['review_length'], kde=True, color='skyblue')\n",
    "plt.title('Distribution of Review Lengths')\n",
    "plt.xlabel('Review Length (characters)')\n",
    "plt.ylabel('Frequency')\n",
    "plt.grid(True)\n",
    "plt.show()"
   ]
  },
  {
   "cell_type": "code",
   "execution_count": 19,
   "id": "a28c10f1",
   "metadata": {
    "papermill": {
     "duration": 0.02164,
     "end_time": "2024-02-28T16:24:08.242678",
     "exception": false,
     "start_time": "2024-02-28T16:24:08.221038",
     "status": "completed"
    },
    "tags": []
   },
   "outputs": [
    {
     "name": "stdout",
     "output_type": "stream",
     "text": [
      "Number of rows in the DataFrame: 2535\n"
     ]
    }
   ],
   "source": [
    "num_rows = len(df)\n",
    "print(\"Number of rows in the DataFrame:\", num_rows)\n"
   ]
  },
  {
   "cell_type": "code",
   "execution_count": 20,
   "id": "1cc3b801",
   "metadata": {
    "papermill": {
     "duration": 0.022075,
     "end_time": "2024-02-28T16:24:08.278620",
     "exception": false,
     "start_time": "2024-02-28T16:24:08.256545",
     "status": "completed"
    },
    "tags": []
   },
   "outputs": [
    {
     "name": "stdout",
     "output_type": "stream",
     "text": [
      "Great product and price!\n",
      "Great product and price!\n",
      "Great product and price!\n",
      "Great product and price!\n",
      "Great product and price!\n",
      "Waaay too small. Will use for futur children!\n",
      "Stays vibrant after many washes\n",
      "Stays vibrant after many washes\n",
      "My son really likes the pink. Ones which I was nervous about\n",
      "Waaay too small. Will use for future child.\n"
     ]
    }
   ],
   "source": [
    "# Print the first 10 contents of the reviewText column\n",
    "for review_text in df['reviewText'].head(10):\n",
    "    print(review_text)"
   ]
  },
  {
   "cell_type": "code",
   "execution_count": 21,
   "id": "ae936b69",
   "metadata": {
    "papermill": {
     "duration": 0.020741,
     "end_time": "2024-02-28T16:24:08.312945",
     "exception": false,
     "start_time": "2024-02-28T16:24:08.292204",
     "status": "completed"
    },
    "tags": []
   },
   "outputs": [],
   "source": [
    "text_data = df['reviewText']"
   ]
  },
  {
   "cell_type": "code",
   "execution_count": 22,
   "id": "3bd1b5e1",
   "metadata": {
    "papermill": {
     "duration": 0.023421,
     "end_time": "2024-02-28T16:24:08.350255",
     "exception": false,
     "start_time": "2024-02-28T16:24:08.326834",
     "status": "completed"
    },
    "tags": []
   },
   "outputs": [],
   "source": [
    "# Define a function to perform all pre-processing steps\n",
    "def preprocess_text(text):\n",
    "    # Lowercasing\n",
    "    text_lower = text.lower()\n",
    "    \n",
    "    # Removing Punctuation\n",
    "    text_no_punct = text_lower.translate(str.maketrans('', '', string.punctuation))\n",
    "    \n",
    "    # Tokenization\n",
    "    text_tokens = word_tokenize(text_no_punct)\n",
    "    \n",
    "    # Removing Stopwords\n",
    "    stop_words = set(stopwords.words('english'))\n",
    "    text_no_stopwords = [word for word in text_tokens if word not in stop_words]\n",
    "    \n",
    "    # Combine tokens into a single string\n",
    "    processed_text = ' '.join(text_no_stopwords)\n",
    "    \n",
    "    return processed_text"
   ]
  },
  {
   "cell_type": "code",
   "execution_count": 23,
   "id": "b0a94e23",
   "metadata": {
    "papermill": {
     "duration": 0.680214,
     "end_time": "2024-02-28T16:24:09.044657",
     "exception": false,
     "start_time": "2024-02-28T16:24:08.364443",
     "status": "completed"
    },
    "tags": []
   },
   "outputs": [],
   "source": [
    "# Apply the pre-processing function to create the new column\n",
    "df['processedText'] = text_data.apply(preprocess_text)"
   ]
  },
  {
   "cell_type": "code",
   "execution_count": 24,
   "id": "f1b057e4",
   "metadata": {
    "papermill": {
     "duration": 0.031055,
     "end_time": "2024-02-28T16:24:09.089540",
     "exception": false,
     "start_time": "2024-02-28T16:24:09.058485",
     "status": "completed"
    },
    "tags": []
   },
   "outputs": [
    {
     "data": {
      "text/html": [
       "<div>\n",
       "<style scoped>\n",
       "    .dataframe tbody tr th:only-of-type {\n",
       "        vertical-align: middle;\n",
       "    }\n",
       "\n",
       "    .dataframe tbody tr th {\n",
       "        vertical-align: top;\n",
       "    }\n",
       "\n",
       "    .dataframe thead th {\n",
       "        text-align: right;\n",
       "    }\n",
       "</style>\n",
       "<table border=\"1\" class=\"dataframe\">\n",
       "  <thead>\n",
       "    <tr style=\"text-align: right;\">\n",
       "      <th></th>\n",
       "      <th>verified</th>\n",
       "      <th>reviewTime</th>\n",
       "      <th>reviewText</th>\n",
       "      <th>summary</th>\n",
       "      <th>review_length</th>\n",
       "      <th>sentiment_label</th>\n",
       "      <th>processedText</th>\n",
       "    </tr>\n",
       "  </thead>\n",
       "  <tbody>\n",
       "    <tr>\n",
       "      <th>0</th>\n",
       "      <td>True</td>\n",
       "      <td>09 4, 2015</td>\n",
       "      <td>Great product and price!</td>\n",
       "      <td>Five Stars</td>\n",
       "      <td>24.0</td>\n",
       "      <td>Positive</td>\n",
       "      <td>great product price</td>\n",
       "    </tr>\n",
       "    <tr>\n",
       "      <th>1</th>\n",
       "      <td>True</td>\n",
       "      <td>09 4, 2015</td>\n",
       "      <td>Great product and price!</td>\n",
       "      <td>Five Stars</td>\n",
       "      <td>24.0</td>\n",
       "      <td>Positive</td>\n",
       "      <td>great product price</td>\n",
       "    </tr>\n",
       "    <tr>\n",
       "      <th>2</th>\n",
       "      <td>True</td>\n",
       "      <td>09 4, 2015</td>\n",
       "      <td>Great product and price!</td>\n",
       "      <td>Five Stars</td>\n",
       "      <td>24.0</td>\n",
       "      <td>Positive</td>\n",
       "      <td>great product price</td>\n",
       "    </tr>\n",
       "    <tr>\n",
       "      <th>3</th>\n",
       "      <td>True</td>\n",
       "      <td>09 4, 2015</td>\n",
       "      <td>Great product and price!</td>\n",
       "      <td>Five Stars</td>\n",
       "      <td>24.0</td>\n",
       "      <td>Positive</td>\n",
       "      <td>great product price</td>\n",
       "    </tr>\n",
       "    <tr>\n",
       "      <th>4</th>\n",
       "      <td>True</td>\n",
       "      <td>09 4, 2015</td>\n",
       "      <td>Great product and price!</td>\n",
       "      <td>Five Stars</td>\n",
       "      <td>24.0</td>\n",
       "      <td>Positive</td>\n",
       "      <td>great product price</td>\n",
       "    </tr>\n",
       "  </tbody>\n",
       "</table>\n",
       "</div>"
      ],
      "text/plain": [
       "   verified  reviewTime                reviewText     summary  review_length  \\\n",
       "0      True  09 4, 2015  Great product and price!  Five Stars           24.0   \n",
       "1      True  09 4, 2015  Great product and price!  Five Stars           24.0   \n",
       "2      True  09 4, 2015  Great product and price!  Five Stars           24.0   \n",
       "3      True  09 4, 2015  Great product and price!  Five Stars           24.0   \n",
       "4      True  09 4, 2015  Great product and price!  Five Stars           24.0   \n",
       "\n",
       "  sentiment_label        processedText  \n",
       "0        Positive  great product price  \n",
       "1        Positive  great product price  \n",
       "2        Positive  great product price  \n",
       "3        Positive  great product price  \n",
       "4        Positive  great product price  "
      ]
     },
     "execution_count": 24,
     "metadata": {},
     "output_type": "execute_result"
    }
   ],
   "source": [
    "df.head()"
   ]
  },
  {
   "cell_type": "code",
   "execution_count": 25,
   "id": "85a16fe9",
   "metadata": {
    "papermill": {
     "duration": 0.02487,
     "end_time": "2024-02-28T16:24:09.128382",
     "exception": false,
     "start_time": "2024-02-28T16:24:09.103512",
     "status": "completed"
    },
    "tags": []
   },
   "outputs": [
    {
     "data": {
      "text/plain": [
       "Index(['sentiment_label', 'processedText'], dtype='object')"
      ]
     },
     "execution_count": 25,
     "metadata": {},
     "output_type": "execute_result"
    }
   ],
   "source": [
    "df.drop(columns=['verified', 'reviewTime','summary','review_length','reviewText'], inplace=True)\n",
    "\n",
    "df.columns"
   ]
  },
  {
   "cell_type": "code",
   "execution_count": 26,
   "id": "bebf48ae",
   "metadata": {
    "papermill": {
     "duration": 0.028644,
     "end_time": "2024-02-28T16:24:09.171783",
     "exception": false,
     "start_time": "2024-02-28T16:24:09.143139",
     "status": "completed"
    },
    "tags": []
   },
   "outputs": [
    {
     "data": {
      "text/html": [
       "<div>\n",
       "<style scoped>\n",
       "    .dataframe tbody tr th:only-of-type {\n",
       "        vertical-align: middle;\n",
       "    }\n",
       "\n",
       "    .dataframe tbody tr th {\n",
       "        vertical-align: top;\n",
       "    }\n",
       "\n",
       "    .dataframe thead th {\n",
       "        text-align: right;\n",
       "    }\n",
       "</style>\n",
       "<table border=\"1\" class=\"dataframe\">\n",
       "  <thead>\n",
       "    <tr style=\"text-align: right;\">\n",
       "      <th></th>\n",
       "      <th>sentiment_label</th>\n",
       "      <th>processedText</th>\n",
       "    </tr>\n",
       "  </thead>\n",
       "  <tbody>\n",
       "    <tr>\n",
       "      <th>2165</th>\n",
       "      <td>Positive</td>\n",
       "      <td>fast shipping turned expected couldnt happier</td>\n",
       "    </tr>\n",
       "    <tr>\n",
       "      <th>2628</th>\n",
       "      <td>Negative</td>\n",
       "      <td>less week sole ripped outside shoe</td>\n",
       "    </tr>\n",
       "    <tr>\n",
       "      <th>1655</th>\n",
       "      <td>Positive</td>\n",
       "      <td>confortable</td>\n",
       "    </tr>\n",
       "    <tr>\n",
       "      <th>2770</th>\n",
       "      <td>Positive</td>\n",
       "      <td>best tennis shoes ive life comfortable box wou...</td>\n",
       "    </tr>\n",
       "    <tr>\n",
       "      <th>185</th>\n",
       "      <td>Positive</td>\n",
       "      <td>comfortable athletic shoe good gym ellipical t...</td>\n",
       "    </tr>\n",
       "    <tr>\n",
       "      <th>...</th>\n",
       "      <td>...</td>\n",
       "      <td>...</td>\n",
       "    </tr>\n",
       "    <tr>\n",
       "      <th>330</th>\n",
       "      <td>Positive</td>\n",
       "      <td>good quality</td>\n",
       "    </tr>\n",
       "    <tr>\n",
       "      <th>575</th>\n",
       "      <td>Positive</td>\n",
       "      <td>love light color great</td>\n",
       "    </tr>\n",
       "    <tr>\n",
       "      <th>896</th>\n",
       "      <td>Neutral</td>\n",
       "      <td>great look zero support inside shoe buy expens...</td>\n",
       "    </tr>\n",
       "    <tr>\n",
       "      <th>2843</th>\n",
       "      <td>Positive</td>\n",
       "      <td>comfortable light</td>\n",
       "    </tr>\n",
       "    <tr>\n",
       "      <th>1415</th>\n",
       "      <td>Positive</td>\n",
       "      <td>love light blue light weight airy comfortable</td>\n",
       "    </tr>\n",
       "  </tbody>\n",
       "</table>\n",
       "<p>1000 rows × 2 columns</p>\n",
       "</div>"
      ],
      "text/plain": [
       "     sentiment_label                                      processedText\n",
       "2165        Positive      fast shipping turned expected couldnt happier\n",
       "2628        Negative                 less week sole ripped outside shoe\n",
       "1655        Positive                                        confortable\n",
       "2770        Positive  best tennis shoes ive life comfortable box wou...\n",
       "185         Positive  comfortable athletic shoe good gym ellipical t...\n",
       "...              ...                                                ...\n",
       "330         Positive                                       good quality\n",
       "575         Positive                             love light color great\n",
       "896          Neutral  great look zero support inside shoe buy expens...\n",
       "2843        Positive                                  comfortable light\n",
       "1415        Positive      love light blue light weight airy comfortable\n",
       "\n",
       "[1000 rows x 2 columns]"
      ]
     },
     "execution_count": 26,
     "metadata": {},
     "output_type": "execute_result"
    }
   ],
   "source": [
    "# Randomly select 1000 reviews from the dataset\n",
    "df_sampled = df.sample(n=1000, random_state=26) \n",
    "\n",
    "df_sampled\n"
   ]
  },
  {
   "cell_type": "markdown",
   "id": "f81796d2",
   "metadata": {
    "papermill": {
     "duration": 0.014638,
     "end_time": "2024-02-28T16:24:09.201208",
     "exception": false,
     "start_time": "2024-02-28T16:24:09.186570",
     "status": "completed"
    },
    "tags": []
   },
   "source": [
    "## **MODELING (VADER AND TEXTBLOB)**"
   ]
  },
  {
   "cell_type": "code",
   "execution_count": 27,
   "id": "3fc03499",
   "metadata": {
    "papermill": {
     "duration": 0.039276,
     "end_time": "2024-02-28T16:24:09.257005",
     "exception": false,
     "start_time": "2024-02-28T16:24:09.217729",
     "status": "completed"
    },
    "tags": []
   },
   "outputs": [],
   "source": [
    "# Initialize VADER\n",
    "vader_analyzer = SentimentIntensityAnalyzer()\n",
    "\n",
    "# Function to apply VADER sentiment analysis\n",
    "def analyze_sentiment_vader(text):\n",
    "    sentiment_score = vader_analyzer.polarity_scores(text)\n",
    "    # Classify sentiment based on compound score\n",
    "    if sentiment_score['compound'] >= 0.05:\n",
    "        return 'Positive'\n",
    "    elif sentiment_score['compound'] <= -0.05:\n",
    "        return 'Negative'\n",
    "    else:\n",
    "        return 'Neutral'"
   ]
  },
  {
   "cell_type": "code",
   "execution_count": 28,
   "id": "c70f0ef4",
   "metadata": {
    "papermill": {
     "duration": 0.022416,
     "end_time": "2024-02-28T16:24:09.294643",
     "exception": false,
     "start_time": "2024-02-28T16:24:09.272227",
     "status": "completed"
    },
    "tags": []
   },
   "outputs": [],
   "source": [
    "# Function to apply TextBlob sentiment analysis\n",
    "def analyze_sentiment_textblob(text):\n",
    "    sentiment = TextBlob(text).sentiment.polarity\n",
    "    # Classify sentiment based on polarity score\n",
    "    if sentiment > 0:\n",
    "        return 'Positive'\n",
    "    elif sentiment < 0:\n",
    "        return 'Negative'\n",
    "    else:\n",
    "        return 'Neutral'"
   ]
  },
  {
   "cell_type": "code",
   "execution_count": 29,
   "id": "c43d5145",
   "metadata": {
    "papermill": {
     "duration": 0.455424,
     "end_time": "2024-02-28T16:24:09.765583",
     "exception": false,
     "start_time": "2024-02-28T16:24:09.310159",
     "status": "completed"
    },
    "tags": []
   },
   "outputs": [],
   "source": [
    "# Apply sentiment analysis to the pre-processed text data\n",
    "df_sampled['sentiment_vader'] = df_sampled['processedText'].apply(analyze_sentiment_vader)\n",
    "df_sampled['sentiment_textblob'] = df_sampled['processedText'].apply(analyze_sentiment_textblob)\n"
   ]
  },
  {
   "cell_type": "code",
   "execution_count": 30,
   "id": "41a79d72",
   "metadata": {
    "papermill": {
     "duration": 0.031132,
     "end_time": "2024-02-28T16:24:09.811590",
     "exception": false,
     "start_time": "2024-02-28T16:24:09.780458",
     "status": "completed"
    },
    "tags": []
   },
   "outputs": [
    {
     "data": {
      "text/html": [
       "<div>\n",
       "<style scoped>\n",
       "    .dataframe tbody tr th:only-of-type {\n",
       "        vertical-align: middle;\n",
       "    }\n",
       "\n",
       "    .dataframe tbody tr th {\n",
       "        vertical-align: top;\n",
       "    }\n",
       "\n",
       "    .dataframe thead th {\n",
       "        text-align: right;\n",
       "    }\n",
       "</style>\n",
       "<table border=\"1\" class=\"dataframe\">\n",
       "  <thead>\n",
       "    <tr style=\"text-align: right;\">\n",
       "      <th></th>\n",
       "      <th>processedText</th>\n",
       "      <th>sentiment_label</th>\n",
       "      <th>sentiment_vader</th>\n",
       "      <th>sentiment_textblob</th>\n",
       "    </tr>\n",
       "  </thead>\n",
       "  <tbody>\n",
       "    <tr>\n",
       "      <th>2165</th>\n",
       "      <td>fast shipping turned expected couldnt happier</td>\n",
       "      <td>Positive</td>\n",
       "      <td>Negative</td>\n",
       "      <td>Positive</td>\n",
       "    </tr>\n",
       "    <tr>\n",
       "      <th>2628</th>\n",
       "      <td>less week sole ripped outside shoe</td>\n",
       "      <td>Negative</td>\n",
       "      <td>Neutral</td>\n",
       "      <td>Negative</td>\n",
       "    </tr>\n",
       "    <tr>\n",
       "      <th>1655</th>\n",
       "      <td>confortable</td>\n",
       "      <td>Positive</td>\n",
       "      <td>Neutral</td>\n",
       "      <td>Neutral</td>\n",
       "    </tr>\n",
       "    <tr>\n",
       "      <th>2770</th>\n",
       "      <td>best tennis shoes ive life comfortable box wou...</td>\n",
       "      <td>Positive</td>\n",
       "      <td>Positive</td>\n",
       "      <td>Positive</td>\n",
       "    </tr>\n",
       "    <tr>\n",
       "      <th>185</th>\n",
       "      <td>comfortable athletic shoe good gym ellipical t...</td>\n",
       "      <td>Positive</td>\n",
       "      <td>Positive</td>\n",
       "      <td>Positive</td>\n",
       "    </tr>\n",
       "    <tr>\n",
       "      <th>...</th>\n",
       "      <td>...</td>\n",
       "      <td>...</td>\n",
       "      <td>...</td>\n",
       "      <td>...</td>\n",
       "    </tr>\n",
       "    <tr>\n",
       "      <th>330</th>\n",
       "      <td>good quality</td>\n",
       "      <td>Positive</td>\n",
       "      <td>Positive</td>\n",
       "      <td>Positive</td>\n",
       "    </tr>\n",
       "    <tr>\n",
       "      <th>575</th>\n",
       "      <td>love light color great</td>\n",
       "      <td>Positive</td>\n",
       "      <td>Positive</td>\n",
       "      <td>Positive</td>\n",
       "    </tr>\n",
       "    <tr>\n",
       "      <th>896</th>\n",
       "      <td>great look zero support inside shoe buy expens...</td>\n",
       "      <td>Neutral</td>\n",
       "      <td>Positive</td>\n",
       "      <td>Positive</td>\n",
       "    </tr>\n",
       "    <tr>\n",
       "      <th>2843</th>\n",
       "      <td>comfortable light</td>\n",
       "      <td>Positive</td>\n",
       "      <td>Positive</td>\n",
       "      <td>Positive</td>\n",
       "    </tr>\n",
       "    <tr>\n",
       "      <th>1415</th>\n",
       "      <td>love light blue light weight airy comfortable</td>\n",
       "      <td>Positive</td>\n",
       "      <td>Positive</td>\n",
       "      <td>Positive</td>\n",
       "    </tr>\n",
       "  </tbody>\n",
       "</table>\n",
       "<p>1000 rows × 4 columns</p>\n",
       "</div>"
      ],
      "text/plain": [
       "                                          processedText sentiment_label  \\\n",
       "2165      fast shipping turned expected couldnt happier        Positive   \n",
       "2628                 less week sole ripped outside shoe        Negative   \n",
       "1655                                        confortable        Positive   \n",
       "2770  best tennis shoes ive life comfortable box wou...        Positive   \n",
       "185   comfortable athletic shoe good gym ellipical t...        Positive   \n",
       "...                                                 ...             ...   \n",
       "330                                        good quality        Positive   \n",
       "575                              love light color great        Positive   \n",
       "896   great look zero support inside shoe buy expens...         Neutral   \n",
       "2843                                  comfortable light        Positive   \n",
       "1415      love light blue light weight airy comfortable        Positive   \n",
       "\n",
       "     sentiment_vader sentiment_textblob  \n",
       "2165        Negative           Positive  \n",
       "2628         Neutral           Negative  \n",
       "1655         Neutral            Neutral  \n",
       "2770        Positive           Positive  \n",
       "185         Positive           Positive  \n",
       "...              ...                ...  \n",
       "330         Positive           Positive  \n",
       "575         Positive           Positive  \n",
       "896         Positive           Positive  \n",
       "2843        Positive           Positive  \n",
       "1415        Positive           Positive  \n",
       "\n",
       "[1000 rows x 4 columns]"
      ]
     },
     "metadata": {},
     "output_type": "display_data"
    }
   ],
   "source": [
    "display(df_sampled[['processedText', 'sentiment_label', 'sentiment_vader', 'sentiment_textblob']])"
   ]
  },
  {
   "cell_type": "markdown",
   "id": "fc414b45",
   "metadata": {
    "papermill": {
     "duration": 0.01424,
     "end_time": "2024-02-28T16:24:09.840626",
     "exception": false,
     "start_time": "2024-02-28T16:24:09.826386",
     "status": "completed"
    },
    "tags": []
   },
   "source": [
    "## **VALIDATION**"
   ]
  },
  {
   "cell_type": "code",
   "execution_count": 31,
   "id": "752ce7ea",
   "metadata": {
    "papermill": {
     "duration": 0.072128,
     "end_time": "2024-02-28T16:24:09.928778",
     "exception": false,
     "start_time": "2024-02-28T16:24:09.856650",
     "status": "completed"
    },
    "tags": []
   },
   "outputs": [
    {
     "name": "stdout",
     "output_type": "stream",
     "text": [
      "Comparison of Sentiment Analysis Models:\n",
      "              VADER Positive  VADER Negative  VADER Neutral  \\\n",
      "0  Precision        0.888120        0.235294       0.232323   \n",
      "1     Recall        0.914489        0.137931       0.230000   \n",
      "2   F1-Score        0.901112        0.173913       0.231156   \n",
      "\n",
      "   TextBlob Positive  TextBlob Negative  TextBlob Neutral  \n",
      "0           0.877153           0.444444          0.120000  \n",
      "1           0.907363           0.413793          0.090000  \n",
      "2           0.892002           0.428571          0.102857  \n"
     ]
    }
   ],
   "source": [
    "# Generate classification reports for both models\n",
    "vader_report = classification_report(df_sampled['sentiment_label'], df_sampled['sentiment_vader'], output_dict=True)\n",
    "textblob_report = classification_report(df_sampled['sentiment_label'], df_sampled['sentiment_textblob'], output_dict=True)\n",
    "\n",
    "# Display comparison table\n",
    "comparison_table = pd.DataFrame({\n",
    "    \"\": ['Precision', 'Recall', 'F1-Score'],\n",
    "    \"VADER Positive\": [vader_report['Positive']['precision'], vader_report['Positive']['recall'], vader_report['Positive']['f1-score']],\n",
    "    \"VADER Negative\": [vader_report['Negative']['precision'], vader_report['Negative']['recall'], vader_report['Negative']['f1-score']],\n",
    "    \"VADER Neutral\": [vader_report['Neutral']['precision'], vader_report['Neutral']['recall'], vader_report['Neutral']['f1-score']],\n",
    "    \"TextBlob Positive\": [textblob_report['Positive']['precision'], textblob_report['Positive']['recall'], textblob_report['Positive']['f1-score']],\n",
    "    \"TextBlob Negative\": [textblob_report['Negative']['precision'], textblob_report['Negative']['recall'], textblob_report['Negative']['f1-score']],\n",
    "    \"TextBlob Neutral\": [textblob_report['Neutral']['precision'], textblob_report['Neutral']['recall'], textblob_report['Neutral']['f1-score']]\n",
    "})\n",
    "\n",
    "print(\"Comparison of Sentiment Analysis Models:\")\n",
    "print(comparison_table)"
   ]
  },
  {
   "cell_type": "code",
   "execution_count": null,
   "id": "09790d96",
   "metadata": {
    "papermill": {
     "duration": 0.015489,
     "end_time": "2024-02-28T16:24:09.988381",
     "exception": false,
     "start_time": "2024-02-28T16:24:09.972892",
     "status": "completed"
    },
    "tags": []
   },
   "outputs": [],
   "source": []
  }
 ],
 "metadata": {
  "kaggle": {
   "accelerator": "none",
   "dataSources": [
    {
     "datasetId": 4415337,
     "sourceId": 7585298,
     "sourceType": "datasetVersion"
    }
   ],
   "dockerImageVersionId": 30646,
   "isGpuEnabled": false,
   "isInternetEnabled": true,
   "language": "python",
   "sourceType": "notebook"
  },
  "kernelspec": {
   "display_name": "Python 3 (ipykernel)",
   "language": "python",
   "name": "python3"
  },
  "language_info": {
   "codemirror_mode": {
    "name": "ipython",
    "version": 3
   },
   "file_extension": ".py",
   "mimetype": "text/x-python",
   "name": "python",
   "nbconvert_exporter": "python",
   "pygments_lexer": "ipython3",
   "version": "3.11.7"
  },
  "papermill": {
   "default_parameters": {},
   "duration": 25.330269,
   "end_time": "2024-02-28T16:24:10.723481",
   "environment_variables": {},
   "exception": null,
   "input_path": "__notebook__.ipynb",
   "output_path": "__notebook__.ipynb",
   "parameters": {},
   "start_time": "2024-02-28T16:23:45.393212",
   "version": "2.5.0"
  }
 },
 "nbformat": 4,
 "nbformat_minor": 5
}
